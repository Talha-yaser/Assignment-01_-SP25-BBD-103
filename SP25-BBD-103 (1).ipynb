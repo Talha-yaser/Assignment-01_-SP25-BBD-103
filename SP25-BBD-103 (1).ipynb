{
 "cells": [
  {
   "cell_type": "markdown",
   "id": "3ee8c168-d738-4282-8017-135042a9c639",
   "metadata": {},
   "source": [
    "#SP25-BBD-103 #Talha Yaser"
   ]
  },
  {
   "cell_type": "markdown",
   "id": "7999428c-d503-4c2a-b837-a06b1f916af2",
   "metadata": {},
   "source": [
    "# list of favourite movies"
   ]
  },
  {
   "cell_type": "code",
   "execution_count": 6,
   "id": "33475058-0edf-436d-b7c6-eea677e4dbb1",
   "metadata": {},
   "outputs": [],
   "source": [
    "#question 1: create a list of favourite movies\n",
    "list=['venom', 'Escape Room', 'Fast&Furious', 'harry potter']"
   ]
  },
  {
   "cell_type": "code",
   "execution_count": 8,
   "id": "b586e7e7-b536-43c2-bba5-99997c15a1d4",
   "metadata": {},
   "outputs": [
    {
     "name": "stdout",
     "output_type": "stream",
     "text": [
      "venom\n",
      "Escape Room\n",
      "Fast&Furious\n",
      "harry potter\n"
     ]
    }
   ],
   "source": [
    "#question 2: iterate over the list and print each movie title.\n",
    "for movie in list:\n",
    "    print(movie)"
   ]
  },
  {
   "cell_type": "code",
   "execution_count": 11,
   "id": "9eaa5957-a0f1-4678-b79a-2e88efc4e08a",
   "metadata": {},
   "outputs": [
    {
     "name": "stdout",
     "output_type": "stream",
     "text": [
      "1.venom\n",
      "2.Escape Room\n",
      "3.Fast&Furious\n",
      "4.harry potter\n"
     ]
    }
   ],
   "source": [
    "#question 3: Modify the loop to print the index of each movie along with its title.\n",
    "for movie in range(len(list)):\n",
    "    print(f\"{movie+1}.{list[movie]}\")"
   ]
  },
  {
   "cell_type": "markdown",
   "id": "8d5eedc9-9996-4e72-b888-9f0951405c1b",
   "metadata": {},
   "source": [
    "# String Iteration\n"
   ]
  },
  {
   "cell_type": "code",
   "execution_count": 25,
   "id": "2a580b2c-5bea-4e04-a3ab-ad9c99487377",
   "metadata": {},
   "outputs": [],
   "source": [
    "# Question No 1: Create a string variable containing your full name\n",
    "name='talha_yaser'"
   ]
  },
  {
   "cell_type": "code",
   "execution_count": 27,
   "id": "579c74fd-56f5-4166-9d58-b56998f27ecb",
   "metadata": {},
   "outputs": [
    {
     "name": "stdout",
     "output_type": "stream",
     "text": [
      "t\n",
      "a\n",
      "l\n",
      "h\n",
      "a\n",
      "_\n",
      "y\n",
      "a\n",
      "s\n",
      "e\n",
      "r\n"
     ]
    }
   ],
   "source": [
    "#Question No 2:Iterate over the string \n",
    "for char in name:\n",
    "    print(char)"
   ]
  },
  {
   "cell_type": "code",
   "execution_count": 12,
   "id": "d5b74802-993d-4f71-8c9b-f09e4b8d6e9c",
   "metadata": {},
   "outputs": [
    {
     "name": "stdout",
     "output_type": "stream",
     "text": [
      "\n",
      "Number of vowels: 2\n"
     ]
    }
   ],
   "source": [
    "# Count the number of vowels in the string.\n",
    "vowels = \"aeiou\"\n",
    "count = 0\n",
    "for char in 'name':\n",
    "    for vowel in vowels:\n",
    "        if char == vowel:\n",
    "            count = count + 1\n",
    "print(\"\\nNumber of vowels:\",count)\n"
   ]
  },
  {
   "cell_type": "code",
   "execution_count": null,
   "id": "b190be69-f574-4e3a-9367-d38f8b3c543b",
   "metadata": {},
   "outputs": [],
   "source": []
  }
 ],
 "metadata": {
  "kernelspec": {
   "display_name": "Python [conda env:anaconda3] *",
   "language": "python",
   "name": "conda-env-anaconda3-py"
  },
  "language_info": {
   "codemirror_mode": {
    "name": "ipython",
    "version": 3
   },
   "file_extension": ".py",
   "mimetype": "text/x-python",
   "name": "python",
   "nbconvert_exporter": "python",
   "pygments_lexer": "ipython3",
   "version": "3.12.7"
  }
 },
 "nbformat": 4,
 "nbformat_minor": 5
}
